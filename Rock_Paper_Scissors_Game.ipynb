{
  "cells": [
    {
      "cell_type": "markdown",
      "metadata": {
        "id": "view-in-github",
        "colab_type": "text"
      },
      "source": [
        "<a href=\"https://colab.research.google.com/github/asampriya/Micro-IT-Internship/blob/main/Rock_Paper_Scissors_Game.ipynb\" target=\"_parent\"><img src=\"https://colab.research.google.com/assets/colab-badge.svg\" alt=\"Open In Colab\"/></a>"
      ]
    },
    {
      "cell_type": "code",
      "source": [
        "import random\n",
        "\n",
        "def get_player_choice():\n",
        "    \"\"\"\n",
        "    Gets the player's choice (rock, paper, or scissors) with input validation.\n",
        "    \"\"\"\n",
        "    while True:\n",
        "        player_input = input(\"Choose rock, paper, or scissors: \").lower()\n",
        "        if player_input in [\"rock\", \"paper\", \"scissors\"]:\n",
        "            return player_input\n",
        "        else:\n",
        "            print(\"Invalid choice. Please enter 'rock', 'paper', or 'scissors'.\")\n",
        "\n",
        "def get_computer_choice():\n",
        "    \"\"\"\n",
        "    Generates a random choice for the computer.\n",
        "    \"\"\"\n",
        "    return random.choice([\"rock\", \"paper\", \"scissors\"])\n",
        "\n",
        "def determine_winner(player_choice, computer_choice):\n",
        "    \"\"\"\n",
        "    Determines the winner based on the classic Rock-Paper-Scissors rules.\n",
        "\n",
        "    Args:\n",
        "        player_choice (str): The choice made by the player.\n",
        "        computer_choice (str): The choice made by the computer.\n",
        "\n",
        "    Returns:\n",
        "        str: A message indicating the winner (Player, Computer, or a Tie).\n",
        "    \"\"\"\n",
        "    print(f\"\\nYou chose: {player_choice.capitalize()}\")\n",
        "    print(f\"Computer chose: {computer_choice.capitalize()}\")\n",
        "\n",
        "    if player_choice == computer_choice:\n",
        "        return \"It's a tie!\"\n",
        "    elif (player_choice == \"rock\" and computer_choice == \"scissors\") or \\\n",
        "         (player_choice == \"scissors\" and computer_choice == \"paper\") or \\\n",
        "         (player_choice == \"paper\" and computer_choice == \"rock\"):\n",
        "        return \"You win!\"\n",
        "    else:\n",
        "        return \"Computer wins!\"\n",
        "\n",
        "def play_game():\n",
        "    \"\"\"\n",
        "    Runs a single round of the Rock-Paper-Scissors game.\n",
        "    \"\"\"\n",
        "    print(\"\\n--- New Round ---\")\n",
        "    player_choice = get_player_choice()\n",
        "    computer_choice = get_computer_choice()\n",
        "    result = determine_winner(player_choice, computer_choice)\n",
        "    print(result)\n",
        "\n",
        "# Main game loop\n",
        "if __name__ == \"__main__\":\n",
        "    print(\"Welcome to Rock-Paper-Scissors!\")\n",
        "    while True:\n",
        "        play_game()\n",
        "        play_again = input(\"\\nDo you want to play again? (yes/no): \").lower()\n",
        "        if play_again != \"yes\":\n",
        "            break\n",
        "    print(\"Thanks for playing! Goodbye!\")"
      ],
      "metadata": {
        "colab": {
          "base_uri": "https://localhost:8080/"
        },
        "id": "lkwE9uNTW3Tp",
        "outputId": "466fdc6d-535a-41fb-e63e-f16386292903"
      },
      "execution_count": null,
      "outputs": [
        {
          "output_type": "stream",
          "name": "stdout",
          "text": [
            "Welcome to Rock-Paper-Scissors!\n",
            "\n",
            "--- New Round ---\n"
          ]
        }
      ]
    }
  ],
  "metadata": {
    "colab": {
      "provenance": [],
      "include_colab_link": true
    },
    "kernelspec": {
      "display_name": "Python 3",
      "name": "python3"
    }
  },
  "nbformat": 4,
  "nbformat_minor": 0
}